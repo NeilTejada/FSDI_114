{
 "cells": [
  {
   "cell_type": "code",
   "execution_count": 2,
   "id": "038068ea-9e5f-4c42-b8a9-ac9138358fec",
   "metadata": {},
   "outputs": [],
   "source": [
    "# Simplified implementaion of Queue (relying on built-in data structures)\n",
    "\n",
    "class Queue:\n",
    "    def __init__(self):\n",
    "        self.items = []\n",
    "\n",
    "    def enqueue(self, value):\n",
    "        self.items.insert(0, value)\n",
    "\n",
    "    def dequeue(self):\n",
    "        return self.items.pop()\n",
    "\n",
    "    # nice to have methods\n",
    "    def is_empty(self):\n",
    "        return self.items == []\n",
    "\n",
    "    def size(self):\n",
    "        return len(self.items)\n",
    "\n",
    "    def peek(self):\n",
    "        return self.items[len(self.items)-1]"
   ]
  },
  {
   "cell_type": "code",
   "execution_count": 3,
   "id": "5ebecbfd-1faa-4b14-b6e0-dd55040a8a1b",
   "metadata": {},
   "outputs": [
    {
     "name": "stdout",
     "output_type": "stream",
     "text": [
      "A\n",
      "B\n",
      "C\n"
     ]
    }
   ],
   "source": [
    "queue = Queue()\n",
    "\n",
    "queue.enqueue(\"A\")\n",
    "queue.enqueue(\"B\")\n",
    "queue.enqueue(\"C\")\n",
    "\n",
    "while not queue.is_empty():\n",
    "    print(queue.dequeue()) "
   ]
  },
  {
   "cell_type": "code",
   "execution_count": 18,
   "id": "1ff14f97-f0e4-49e7-9483-03b785fe50b3",
   "metadata": {},
   "outputs": [],
   "source": [
    "# QueueII mini-challenge\n",
    "\n",
    "# More complex implementaion of Queue (no built-ins)\n",
    "\n",
    "class QueueII:\n",
    "    def __init__(self):\n",
    "        self.rear = None\n",
    "        self.front = None\n",
    "\n",
    "    class __Node:\n",
    "        def __init__(self, data):\n",
    "            self.data = data\n",
    "            self.next = None\n",
    "\n",
    "    def enqueue(self, value):\n",
    "        new_node = self.__Node(value)\n",
    "        if not self.rear:\n",
    "            self.rear = new_node\n",
    "            self.front = new_node\n",
    "        else:\n",
    "            # step 1: back up the current \"rear\" reference\n",
    "            backup = self.rear\n",
    "            # step 2: update the \"rear\" reference to point to our new node\n",
    "            self.rear = new_node\n",
    "            # step 3: update the \"backup\" reference so it's \"next\" reference points to our new node\n",
    "            backup.next = new_node\n",
    "    def dequeue(self):\n",
    "        if self.front:     # checks if something at front of the line\n",
    "            backup = self.front.data\n",
    "            self.front = self.front.next\n",
    "            return backup\n",
    "        raise IndexError(\"Queue is empty\")\n",
    "\n",
    "    def is_empty(self):\n",
    "        return self.front == None\n",
    "\n",
    "    def __str__(self):\n",
    "        out = \"FRONT\"\n",
    "        current = self.front\n",
    "        if current:\n",
    "            out += \"-> %s\" % current.data\n",
    "            while current.next:\n",
    "                current = current.next\n",
    "                out += \"-> %s\" % current.data\n",
    "        out += \" :REAR\"\n",
    "        return out\n"
   ]
  },
  {
   "cell_type": "code",
   "execution_count": 19,
   "id": "d6d4b24b-709f-47cf-b0d0-3b86468dc992",
   "metadata": {},
   "outputs": [
    {
     "name": "stdout",
     "output_type": "stream",
     "text": [
      "New queue created (and empty):\n",
      "FRONT :REAR\n",
      "Queue as we add things to it:\n",
      "FRONT-> A :REAR\n",
      "FRONT-> A-> B :REAR\n",
      "FRONT-> A-> B-> C :REAR\n",
      "FRONT-> A-> B-> C-> D :REAR\n",
      "FRONT-> A-> B-> C-> D-> E :REAR\n",
      "FRONT-> A-> B-> C-> D-> E-> F :REAR\n",
      "FRONT-> A-> B-> C-> D-> E-> F-> G :REAR\n",
      "FRONT-> A-> B-> C-> D-> E-> F-> G-> H :REAR\n",
      "FRONT-> A-> B-> C-> D-> E-> F-> G-> H-> I :REAR\n",
      "FRONT-> A-> B-> C-> D-> E-> F-> G-> H-> I-> J :REAR\n",
      "FRONT-> A-> B-> C-> D-> E-> F-> G-> H-> I-> J-> K :REAR\n",
      "Queue as we dequeue elements until it is empty:\n",
      "Dequeued element: A\n",
      "Queue: FRONT-> B-> C-> D-> E-> F-> G-> H-> I-> J-> K :REAR\n",
      "Dequeued element: B\n",
      "Queue: FRONT-> C-> D-> E-> F-> G-> H-> I-> J-> K :REAR\n",
      "Dequeued element: C\n",
      "Queue: FRONT-> D-> E-> F-> G-> H-> I-> J-> K :REAR\n",
      "Dequeued element: D\n",
      "Queue: FRONT-> E-> F-> G-> H-> I-> J-> K :REAR\n",
      "Dequeued element: E\n",
      "Queue: FRONT-> F-> G-> H-> I-> J-> K :REAR\n",
      "Dequeued element: F\n",
      "Queue: FRONT-> G-> H-> I-> J-> K :REAR\n",
      "Dequeued element: G\n",
      "Queue: FRONT-> H-> I-> J-> K :REAR\n",
      "Dequeued element: H\n",
      "Queue: FRONT-> I-> J-> K :REAR\n",
      "Dequeued element: I\n",
      "Queue: FRONT-> J-> K :REAR\n",
      "Dequeued element: J\n",
      "Queue: FRONT-> K :REAR\n",
      "Dequeued element: K\n",
      "Queue: FRONT :REAR\n"
     ]
    }
   ],
   "source": [
    "letters = \"ABCDEFGHIJK\"\n",
    "\n",
    "queue = QueueII()\n",
    "print(\"New queue created (and empty):\")\n",
    "print(queue)\n",
    "\n",
    "print(\"Queue as we add things to it:\")\n",
    "for letter in letters:\n",
    "    queue.enqueue(letter)\n",
    "    print(queue)\n",
    "\n",
    "print(\"Queue as we dequeue elements until it is empty:\")\n",
    "while not queue.is_empty():\n",
    "    print(\"Dequeued element: %s\" % queue.dequeue())\n",
    "    print(\"Queue: %s\" % queue)"
   ]
  },
  {
   "cell_type": "code",
   "execution_count": null,
   "id": "52f17425-18d1-4d69-9a60-c526727090aa",
   "metadata": {},
   "outputs": [],
   "source": []
  }
 ],
 "metadata": {
  "kernelspec": {
   "display_name": "Python 3 (ipykernel)",
   "language": "python",
   "name": "python3"
  },
  "language_info": {
   "codemirror_mode": {
    "name": "ipython",
    "version": 3
   },
   "file_extension": ".py",
   "mimetype": "text/x-python",
   "name": "python",
   "nbconvert_exporter": "python",
   "pygments_lexer": "ipython3",
   "version": "3.12.0"
  }
 },
 "nbformat": 4,
 "nbformat_minor": 5
}
