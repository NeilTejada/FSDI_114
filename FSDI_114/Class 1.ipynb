{
 "cells": [
  {
   "cell_type": "code",
   "execution_count": 1,
   "id": "74e5a9db-15aa-471d-bae3-9896cc40f8e8",
   "metadata": {},
   "outputs": [
    {
     "name": "stdout",
     "output_type": "stream",
     "text": [
      "h\n",
      "e\n",
      "l\n",
      "l\n",
      "o\n",
      ",\n",
      " \n",
      "w\n",
      "o\n",
      "r\n",
      "l\n",
      "d\n"
     ]
    }
   ],
   "source": [
    "for char in \"hello, world\":\n",
    "    print(char)"
   ]
  },
  {
   "cell_type": "markdown",
   "id": "839a952a-c323-4569-96f0-866159d02a41",
   "metadata": {},
   "source": [
    "# Problem 1\n",
    "\n",
    "## Anagram Check\n",
    "\n",
    "### Create a function that recieves two strings as inputs and determines if these are anagrams of each other. The function should return True if these are anagrams, false otherwise.\n",
    "\n",
    "#### Criteria\n",
    "Two strings are anagrams of each other if all the criteria below is met:\n",
    "1. The must use the same number of letters, the same amount of times.\n",
    "2. They must use the same letters, the same amount of times.\n",
    "\n",
    "```\n",
    "Examples:\n",
    "scar and cars\n",
    "rats and star\n",
    "earth and heart\n",
    "```"
   ]
  },
  {
   "cell_type": "code",
   "execution_count": 2,
   "id": "f0287556-658d-445c-a401-4b43cc1a8c51",
   "metadata": {},
   "outputs": [
    {
     "data": {
      "text/plain": [
       "True"
      ]
     },
     "execution_count": 2,
     "metadata": {},
     "output_type": "execute_result"
    }
   ],
   "source": [
    "# Bad solution\n",
    "# syntactic sugar\n",
    "\n",
    "def anagram_check(string1, string2):\n",
    "    return sorted(string1) == sorted(string2)\n",
    "\n",
    "anagram_check(\"scar\", \"cars\")\n"
   ]
  },
  {
   "cell_type": "code",
   "execution_count": 4,
   "id": "513bbd25-9148-4c5f-a7c1-bedc44a91b87",
   "metadata": {},
   "outputs": [
    {
     "data": {
      "text/plain": [
       "False"
      ]
     },
     "execution_count": 4,
     "metadata": {},
     "output_type": "execute_result"
    }
   ],
   "source": [
    "# In the popular harry potter saga, the villain's name \"Voldemort\" chos this name as it is an anagram of his human name\n",
    "\n",
    "# So, the phrase \"I am Lord Voldemort\" is an anagram of \"Tom Marvolo Riddle\"\n",
    "\n",
    "def anagram_check(string1, string2):\n",
    "    return sorted(string1) == sorted(string2)\n",
    "\n",
    "anagram_check(\"I am Lord Voldermort\", \"Tom Marvolo Riddle\")\n"
   ]
  },
  {
   "cell_type": "code",
   "execution_count": null,
   "id": "f58d4739-18f8-48a3-8f1c-da81f3dad653",
   "metadata": {},
   "outputs": [],
   "source": [
    "# Problem 1 Solution:\n",
    "\n",
    "# My Solution\n",
    "\n",
    "# 1. Create a function and name it anagram_equal with two pramameters(string1, string2)\n",
    "\n",
    "#2. If string1 == string2\n",
    "\n",
    "# 3. If both strings are equal to eachother using the same number of letters and using it the same amount of times.\n",
    "# 3.1 It will return True\n",
    "# 3.2 If both strings are not equal with using the same number \n",
    "\n",
    "# Instructor Solution:\n",
    "\n",
    "# define my function anagram_check with parameters string1 and string 2\n",
    "# string1 = string1 in lower case\n",
    "# string1 = without spaces\n",
    "# string2 = string2 in lower case\n",
    "#string2 = string2 without spaces\n",
    "# if string1 and string 2 are not equal length:\n",
    "#   return False\n",
    "# new variable d1 of type dictionary\n",
    "# new variable d2 type dictionary\n",
    "# for each number in the range of numbers between 0 and the length of string1:\n",
    "#   if the letter at position \"number\" in string1 is d1:\n",
    "#      increase the number of times I've seen that letter by 1 in d1\n",
    "#   otherwise:\n",
    "#      create a new entry in d1 with the key set to the letter, and the number of times seen to 1\n",
    "\n",
    "#   if the letter at position \"number\" in string2 is d2:\n",
    "#      increase the number of times I've seen that letter by 1 in d2\n",
    "# otherwise:\n",
    "#      create a new entry in d2 with the key set to the letter, and the number of times seen to 1\n",
    "# if it is:\n",
    "#    return True\n",
    "# otherwise:\n",
    "#    return False\n"
   ]
  }
 ],
 "metadata": {
  "kernelspec": {
   "display_name": "Python 3 (ipykernel)",
   "language": "python",
   "name": "python3"
  },
  "language_info": {
   "codemirror_mode": {
    "name": "ipython",
    "version": 3
   },
   "file_extension": ".py",
   "mimetype": "text/x-python",
   "name": "python",
   "nbconvert_exporter": "python",
   "pygments_lexer": "ipython3",
   "version": "3.12.0"
  }
 },
 "nbformat": 4,
 "nbformat_minor": 5
}
