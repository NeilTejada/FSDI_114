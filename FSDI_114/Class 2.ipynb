{
 "cells": [
  {
   "cell_type": "code",
   "execution_count": 4,
   "id": "fafcb319-cc3c-4698-8905-912a9170b699",
   "metadata": {},
   "outputs": [],
   "source": [
    "# Simpified implementaion of Stack\n",
    "# Relying on built-in data structures (Python lists)\n",
    "\n",
    "class Stack:\n",
    "    def __init__(self):\n",
    "        self.items = []\n",
    "\n",
    "    def push(self,value):\n",
    "        self.items.append(value)\n",
    "\n",
    "    def pop(self):\n",
    "        return self.items.pop()\n",
    "\n",
    "    # Nice to have methods:\n",
    "    def peek(self):\n",
    "        return self.items[length(self.items)-1]\n",
    "\n",
    "    def is_empty(self):\n",
    "        return self.items == []\n",
    "\n",
    "    def size(self):\n",
    "        return len(self.itmes)\n",
    "\n",
    "\n",
    "    "
   ]
  },
  {
   "cell_type": "code",
   "execution_count": 5,
   "id": "a5f908d0-8f31-4ef8-b92e-aec7c280741e",
   "metadata": {},
   "outputs": [],
   "source": [
    "# From scratch implementaion of stack\n",
    "# Not relying on any built-ins\n",
    "\n",
    "class StackII:\n",
    "    def __init__(self):\n",
    "        self.top = None\n",
    "\n",
    "        class __Node:\n",
    "            def __init__(self,data):\n",
    "                self.data = data\n",
    "                self.below = None\n",
    "\n",
    "        def push(self, value):\n",
    "            # No matter what, I will be adding a new node, so this should be the first line:\n",
    "            new_node = self._Node(value)\n",
    "            # check if the stack is empty:\n",
    "            if not self.top:   # this is the same as if self.top == None\n",
    "                self.top = new_node\n",
    "            else:\n",
    "                # Back the reference up (to the old topmost Node)\n",
    "                old_top = self.top\n",
    "                # Update self.top to point to our new node (it becomes the topmost node now)\n",
    "                self.top = new_node\n",
    "                # Connect new_node to the old_top so we don't lose data\n",
    "                new_node.below = old_top\n",
    "\n",
    "        def pop(self):\n",
    "            # At a minimum, the pop operation must return the topmost element (specifically, the data contained at the top)\n",
    "            # and remove the topmost node from the collection\n",
    "            if not self.top\n",
    "                raise IndexError(\"Stack is empty\")\n",
    "            else:\n",
    "                value = self.top.data\n",
    "                self.top = self.top.below\n",
    "                return value\n",
    "           \n",
    "        #Nice to have methods:\n",
    "        def peek(self):\n",
    "            pass\n",
    "\n",
    "        def is_empty(self):\n",
    "            pass\n",
    "\n",
    "        def size(self):\n",
    "            pass"
   ]
  },
  {
   "cell_type": "code",
   "execution_count": 6,
   "id": "9cba05a2-70ec-4759-868b-4487fdc7431e",
   "metadata": {},
   "outputs": [
    {
     "name": "stdout",
     "output_type": "stream",
     "text": [
      "4556730240\n",
      "4556730208\n"
     ]
    }
   ],
   "source": [
    "# Pass by value\n",
    "# In Python \"primary\" data types (int, float, bool) all pass by \"value\"\n",
    "\n",
    "x = 5\n",
    "y =x\n",
    "\n",
    "x += 1\n",
    "\n",
    "print(id(x))\n",
    "print(id(y))\n",
    "\n"
   ]
  },
  {
   "cell_type": "code",
   "execution_count": 8,
   "id": "d63a3c32-385d-474e-be1b-9187dd55953d",
   "metadata": {},
   "outputs": [
    {
     "name": "stdout",
     "output_type": "stream",
     "text": [
      "4590373568\n",
      "4590373568\n"
     ]
    }
   ],
   "source": [
    "# Pass by reference\n",
    "# In Python, data types that are not primary all pass by reference\n",
    "\n",
    "x = [1, 2, 3]\n",
    "y = x\n",
    "\n",
    "x.append(4)\n",
    "\n",
    "print(id(x))\n",
    "print(id(y))"
   ]
  },
  {
   "cell_type": "code",
   "execution_count": null,
   "id": "9bfce173-2061-4963-89b1-df542673ce05",
   "metadata": {},
   "outputs": [],
   "source": []
  }
 ],
 "metadata": {
  "kernelspec": {
   "display_name": "Python 3 (ipykernel)",
   "language": "python",
   "name": "python3"
  },
  "language_info": {
   "codemirror_mode": {
    "name": "ipython",
    "version": 3
   },
   "file_extension": ".py",
   "mimetype": "text/x-python",
   "name": "python",
   "nbconvert_exporter": "python",
   "pygments_lexer": "ipython3",
   "version": "3.12.0"
  }
 },
 "nbformat": 4,
 "nbformat_minor": 5
}
