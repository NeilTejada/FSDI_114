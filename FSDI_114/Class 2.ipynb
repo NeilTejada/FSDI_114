{
 "cells": [
  {
   "cell_type": "code",
   "execution_count": 4,
   "id": "fafcb319-cc3c-4698-8905-912a9170b699",
   "metadata": {},
   "outputs": [],
   "source": [
    "# Simpified implementaion of Stack\n",
    "# Relying on built-in data structures (Python lists)\n",
    "\n",
    "class Stack:\n",
    "    def __init__(self):\n",
    "        self.items = []\n",
    "\n",
    "    def push(self,value):\n",
    "        self.items.append(value)\n",
    "\n",
    "    def pop(self):\n",
    "        return self.items.pop()\n",
    "\n",
    "    # Nice to have methods:\n",
    "    def peek(self):\n",
    "        return self.items[length(self.items)-1]\n",
    "\n",
    "    def is_empty(self):\n",
    "        return self.items == []\n",
    "\n",
    "    def size(self):\n",
    "        return len(self.itmes)\n",
    "\n",
    "\n",
    "    "
   ]
  },
  {
   "cell_type": "code",
   "execution_count": 5,
   "id": "a5f908d0-8f31-4ef8-b92e-aec7c280741e",
   "metadata": {},
   "outputs": [],
   "source": [
    "# From scratch implementaion of stack\n",
    "# Not relying on any built-ins\n",
    "\n",
    "class StackII:\n",
    "    def __init__(self):\n",
    "        self.top = None\n",
    "\n",
    "        class __Node:\n",
    "            def __init__(self,data):\n",
    "                self.data = data\n",
    "                self.below = None\n",
    "\n",
    "        def push(self, value):\n",
    "            # No matter what, I will be adding a new node, so this should be the first line:\n",
    "            new_node = self._Node(value)\n",
    "            # check if the stack is empty:\n",
    "            if not self.top:   # this is the same as if self.top == None\n",
    "                self.top = new_node\n",
    "            else:\n",
    "                # Back the reference up (to the old topmost Node)\n",
    "                old_top = self.top\n",
    "                # Update self.top to point to our new node (it becomes the topmost node now)\n",
    "                self.top = new_node\n",
    "                # Connect new_node to the old_top so we don't lose data\n",
    "                new_node.below = old_top\n",
    "\n",
    "        def pop(self):\n",
    "            # At a minimum, the pop operation must return the topmost element (specifically, the data contained at the top)\n",
    "            # and remove the topmost node from the collection\n",
    "            if not self.top\n",
    "                raise IndexError(\"Stack is empty\")\n",
    "            else:\n",
    "                value = self.top.data\n",
    "                self.top = self.top.below\n",
    "                return value\n",
    "           \n",
    "        #Nice to have methods:\n",
    "        def peek(self):\n",
    "            if self.top:\n",
    "                return self.top.data\n",
    "                raise IndexError(\"Stack is empty\")\n",
    "\n",
    "        def is_empty(self):\n",
    "            return self.top == None\n",
    "\n",
    "        def size(self):\n",
    "            # This should return the number of Nodes in the stack\n",
    "            count = 0\n",
    "            current = self.top\n",
    "            if not current \n",
    "                return count\n",
    "            while current.below:\n",
    "                current = current.below\n",
    "                count += 1\n",
    "            return count\n",
    "            \n",
    "            \n",
    "            \n",
    "            "
   ]
  },
  {
   "cell_type": "code",
   "execution_count": 6,
   "id": "9cba05a2-70ec-4759-868b-4487fdc7431e",
   "metadata": {},
   "outputs": [
    {
     "name": "stdout",
     "output_type": "stream",
     "text": [
      "4556730240\n",
      "4556730208\n"
     ]
    }
   ],
   "source": [
    "# Pass by value\n",
    "# In Python \"primary\" data types (int, float, bool) all pass by \"value\"\n",
    "\n",
    "x = 5\n",
    "y =x\n",
    "\n",
    "x += 1\n",
    "\n",
    "print(id(x))\n",
    "print(id(y))\n",
    "\n"
   ]
  },
  {
   "cell_type": "code",
   "execution_count": 8,
   "id": "d63a3c32-385d-474e-be1b-9187dd55953d",
   "metadata": {},
   "outputs": [
    {
     "name": "stdout",
     "output_type": "stream",
     "text": [
      "4590373568\n",
      "4590373568\n"
     ]
    }
   ],
   "source": [
    "# Pass by reference\n",
    "# In Python, data types that are not primary all pass by reference\n",
    "\n",
    "x = [1, 2, 3]\n",
    "y = x\n",
    "\n",
    "x.append(4)\n",
    "\n",
    "print(id(x))\n",
    "print(id(y))"
   ]
  },
  {
   "cell_type": "markdown",
   "id": "8a99d5ab-0f83-4231-bc7b-4841b14999e0",
   "metadata": {},
   "source": [
    "# Problem 2:\n",
    "\n",
    "## Given a string like \"Rafael\" use our StackII class (above) to invert the sting.\n",
    "\n",
    "### Examples:\n",
    "```\n",
    "invert_str(\"Rafael\") -> \"leafaR\"\n",
    "invert_str(\"Star\") -> \"ratS\"\n",
    "invert_str(\"scar\" -> \"racs\"\n",
    "```\n",
    "\n",
    "### Criteria\n",
    "Your solution must absolutely use only the StakII class about to return the inverted string, no other solution will apply.\n"
   ]
  },
  {
   "cell_type": "code",
   "execution_count": 1,
   "id": "b465c286-3d9a-4a9b-846c-4c5eee530f27",
   "metadata": {},
   "outputs": [],
   "source": [
    "# Steps for problem 2 (Use StackII) as ref.\n",
    "# Create a function using, invert_str(\"Books\")\n",
    "# Use push, to extract each letter."
   ]
  },
  {
   "cell_type": "code",
   "execution_count": 2,
   "id": "e477a0df-990d-4ace-885b-c86873cdb2bf",
   "metadata": {},
   "outputs": [],
   "source": [
    "# In OOP you have classes and the classes act as a blueprint for code that you can use in your solution.\n",
    "# To actually use these classes, you generate an instance of them.\n",
    "# The difference between class and object is like the differnece between a blueprint and the house that is built from it."
   ]
  },
  {
   "cell_type": "code",
   "execution_count": 8,
   "id": "c17b299a-6541-4e12-af82-bd89851b8ef3",
   "metadata": {},
   "outputs": [],
   "source": [
    "# Create a claas called \"Canine\", which should have the following attributes:\n",
    "# height\n",
    "# weight\n",
    "# bite_intenstiy\n",
    "# howl_intensity\n",
    "# Additionally, it should have these methods:\n",
    "# bite()\n",
    "# howl()\n",
    "# run()\n",
    "# dig()\n",
    "\n",
    "# After that, we're going to create the classes Dog() and Wolg() which must extend Canine.\n",
    "# Finally, create instances of Dog and Wold, demonstrate, using the dot operator, how to access these attributes and methods\n",
    "\n",
    "class Canine:\n",
    "    def __init__(self, height, weight, bite_intensity, howl_intensity):\n",
    "        self.height = height          # Attributes are things that \n",
    "        self.weight = weight\n",
    "        self.bite_intensity = bite_intensity\n",
    "        self.howl_intensity = howl_intensity\n",
    "        \n",
    "    def bite(self):\n",
    "        print(\"bite\")\n",
    "        \n",
    "    def howl(self):\n",
    "        print(\"howl\")\n",
    "\n",
    "    def run(self):\n",
    "        print(\"run\")\n",
    "\n",
    "    def dig(self):\n",
    "        print(\"dig\")\n",
    "\n",
    "class Dog(Canine):  # this should be read \"Dog extends Canine\"\n",
    "    def wag_tail(self):\n",
    "        print(\"Wag tail\")\n",
    "\n",
    "class Wolf(Canine):\n",
    "    def hunt(self):\n",
    "        print(\"hunting\")\n",
    "        \n",
    "            \n",
    "\n",
    "        "
   ]
  },
  {
   "cell_type": "code",
   "execution_count": 9,
   "id": "22637d09-02e1-47bf-82bf-c1bfd177b420",
   "metadata": {},
   "outputs": [],
   "source": [
    "wolf = Wolf(30, 50, 100, 100)"
   ]
  },
  {
   "cell_type": "code",
   "execution_count": 12,
   "id": "669ac70b-b3b7-47c8-be07-ac278ac40aff",
   "metadata": {},
   "outputs": [
    {
     "name": "stdout",
     "output_type": "stream",
     "text": [
      "the bite intenstity for worlf is: 100\n"
     ]
    }
   ],
   "source": [
    "print(\"the bite intenstity for worlf is: %s\" % wolf.bite_intensity)"
   ]
  },
  {
   "cell_type": "code",
   "execution_count": 13,
   "id": "3ccc8cab-7358-45bc-b48e-4670626b655d",
   "metadata": {},
   "outputs": [],
   "source": [
    "# Create a class called Vehicle with the following attributes:\n",
    "# 1. velocity\n",
    "# 2. type\n",
    "# 3. number_of_wheels\n",
    "# 4. fuel_level\n",
    "\n",
    "# Then, create the following subclasses:\n",
    "# 1. Truck\n",
    "# 2. Motorcycle\n",
    "# 3. Bus\n",
    "# 4. Plane\n",
    "\n",
    "# Each class should have at least 2 unique methods.\n",
    "\n",
    "# 1. I will create a class and name it Vehicle.\n",
    "# 2. In this class I will create a method __init__ with parameters(self, velocity, type, number_of_wheels, and fuel_level)\n",
    "# 2.1 In the __init__ method I will be using self.velocity = velocity, and so on...\n",
    "# 3. Create 2 unique methods for the class Vehicle, here is an example from Canine: def bite(self):print(\"bite\")\n",
    "# 4. Create 4 subclasses: Truck, Motorcycle, Bus, Plane.\n",
    "\n",
    "class Vehicle:\n",
    "    def __init__(self, velocity, type, number_of_wheels, fuel_level):\n",
    "        self.velocity = velocity\n",
    "        self.type = type\n",
    "        self.number_of_wheels = number_of_wheels\n",
    "        self.fuel_level = fuel_level\n",
    "        \n",
    "# unique method\n",
    "    def transport(self):\n",
    "        print(\"start\")\n",
    "\n",
    "    def wheels(self):\n",
    "        print(\"this vehicle has 4 wheels!\")\n",
    "\n",
    "# Sub classes\n",
    "class Truck(Vehicle):     # With sub classes no need to use __init__ method.\n",
    "    def truck_type(self):\n",
    "        print(\"18 wheeler\")\n",
    "\n",
    "    def fuel_type(self):\n",
    "        print(\"Diesel\")\n",
    "\n",
    "class Motorcycle(Vehicle):\n",
    "\n",
    "class Bus(Vehicle):\n",
    "\n",
    "class Plane(Vehicle):\n",
    "\n",
    "# Ask about the 2 unique methods for better understanding!!!\n"
   ]
  }
 ],
 "metadata": {
  "kernelspec": {
   "display_name": "Python 3 (ipykernel)",
   "language": "python",
   "name": "python3"
  },
  "language_info": {
   "codemirror_mode": {
    "name": "ipython",
    "version": 3
   },
   "file_extension": ".py",
   "mimetype": "text/x-python",
   "name": "python",
   "nbconvert_exporter": "python",
   "pygments_lexer": "ipython3",
   "version": "3.12.0"
  }
 },
 "nbformat": 4,
 "nbformat_minor": 5
}
